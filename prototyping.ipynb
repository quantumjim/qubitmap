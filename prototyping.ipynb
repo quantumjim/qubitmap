{
 "cells": [
  {
   "cell_type": "code",
   "execution_count": 1,
   "metadata": {},
   "outputs": [],
   "source": [
    "from qubitmap import *\n",
    "from images import mario"
   ]
  },
  {
   "cell_type": "code",
   "execution_count": 2,
   "metadata": {},
   "outputs": [],
   "source": [
    "import numpy as np"
   ]
  },
  {
   "cell_type": "code",
   "execution_count": 3,
   "metadata": {},
   "outputs": [],
   "source": [
    "n = 6"
   ]
  },
  {
   "cell_type": "code",
   "execution_count": 4,
   "metadata": {},
   "outputs": [],
   "source": [
    "grid = make_grid(6)\n",
    "image = mario"
   ]
  },
  {
   "cell_type": "code",
   "execution_count": 5,
   "metadata": {},
   "outputs": [
    {
     "data": {
      "text/plain": [
       "64"
      ]
     },
     "execution_count": 5,
     "metadata": {},
     "output_type": "execute_result"
    }
   ],
   "source": [
    "\n",
    "\n",
    "len(grid)"
   ]
  },
  {
   "cell_type": "code",
   "execution_count": 6,
   "metadata": {},
   "outputs": [],
   "source": [
    "state = image2state(image,grid)"
   ]
  },
  {
   "cell_type": "code",
   "execution_count": 7,
   "metadata": {},
   "outputs": [
    {
     "data": {
      "text/plain": [
       "[0.0,\n",
       " 0.05306271147341823,\n",
       " 0.0,\n",
       " 0.147075993757844,\n",
       " 0.0,\n",
       " 0.0,\n",
       " 0.0,\n",
       " 0.147075993757844,\n",
       " 0.147075993757844,\n",
       " 0.05306271147341823,\n",
       " 0.0,\n",
       " 0.147075993757844,\n",
       " 0.147075993757844,\n",
       " 0.147075993757844,\n",
       " 0.0,\n",
       " 0.147075993757844,\n",
       " 0.0,\n",
       " 0.147075993757844,\n",
       " 0.147075993757844,\n",
       " 0.147075993757844,\n",
       " 0.147075993757844,\n",
       " 0.147075993757844,\n",
       " 0.147075993757844,\n",
       " 0.147075993757844,\n",
       " 0.147075993757844,\n",
       " 0.147075993757844,\n",
       " 0.147075993757844,\n",
       " 0.147075993757844,\n",
       " 0.147075993757844,\n",
       " 0.147075993757844,\n",
       " 0.147075993757844,\n",
       " 0.147075993757844,\n",
       " 0.12112140662410682,\n",
       " 0.147075993757844,\n",
       " 0.147075993757844,\n",
       " 0.05306271147341823,\n",
       " 0.06171424051799729,\n",
       " 0.147075993757844,\n",
       " 0.147075993757844,\n",
       " 0.147075993757844,\n",
       " 0.147075993757844,\n",
       " 0.147075993757844,\n",
       " 0.0,\n",
       " 0.05306271147341823,\n",
       " 0.12112140662410682,\n",
       " 0.147075993757844,\n",
       " 0.0,\n",
       " 0.0,\n",
       " 0.06171424051799729,\n",
       " 0.147075993757844,\n",
       " 0.147075993757844,\n",
       " 0.147075993757844,\n",
       " 0.147075993757844,\n",
       " 0.147075993757844,\n",
       " 0.147075993757844,\n",
       " 0.147075993757844,\n",
       " 0.147075993757844,\n",
       " 0.147075993757844,\n",
       " 0.0,\n",
       " 0.147075993757844,\n",
       " 0.147075993757844,\n",
       " 0.147075993757844,\n",
       " 0.147075993757844,\n",
       " 0.147075993757844]"
      ]
     },
     "execution_count": 7,
     "metadata": {},
     "output_type": "execute_result"
    }
   ],
   "source": [
    "state[0]"
   ]
  },
  {
   "cell_type": "code",
   "execution_count": 16,
   "metadata": {},
   "outputs": [],
   "source": [
    "size = (n,n)\n",
    "frames = 10\n",
    "\n",
    "frame_list = []\n",
    "for f in range(frames):\n",
    "    frame_list.append( mario )"
   ]
  },
  {
   "cell_type": "code",
   "execution_count": 6,
   "metadata": {},
   "outputs": [],
   "source": [
    "save_frames(frame_list,size)"
   ]
  },
  {
   "cell_type": "code",
   "execution_count": null,
   "metadata": {},
   "outputs": [],
   "source": []
  },
  {
   "cell_type": "code",
   "execution_count": null,
   "metadata": {},
   "outputs": [],
   "source": []
  },
  {
   "cell_type": "code",
   "execution_count": null,
   "metadata": {},
   "outputs": [],
   "source": []
  },
  {
   "cell_type": "code",
   "execution_count": null,
   "metadata": {},
   "outputs": [],
   "source": []
  }
 ],
 "metadata": {
  "kernelspec": {
   "display_name": "Python 3",
   "language": "python",
   "name": "python3"
  },
  "language_info": {
   "codemirror_mode": {
    "name": "ipython",
    "version": 3
   },
   "file_extension": ".py",
   "mimetype": "text/x-python",
   "name": "python",
   "nbconvert_exporter": "python",
   "pygments_lexer": "ipython3",
   "version": "3.7.0"
  }
 },
 "nbformat": 4,
 "nbformat_minor": 2
}
