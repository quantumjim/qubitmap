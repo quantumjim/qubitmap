{
 "cells": [
  {
   "cell_type": "code",
   "execution_count": 1,
   "metadata": {},
   "outputs": [],
   "source": [
    "from qubitmap import *\n",
    "from images import mario"
   ]
  },
  {
   "cell_type": "code",
   "execution_count": 2,
   "metadata": {},
   "outputs": [],
   "source": [
    "import numpy as np\n",
    "import copy\n",
    "\n",
    "from qiskit import QuantumRegister, ClassicalRegister\n",
    "from qiskit import QuantumCircuit, Aer, execute"
   ]
  },
  {
   "cell_type": "code",
   "execution_count": 11,
   "metadata": {},
   "outputs": [],
   "source": [
    "n = 6"
   ]
  },
  {
   "cell_type": "code",
   "execution_count": 13,
   "metadata": {},
   "outputs": [],
   "source": [
    "grid = make_grid(6)\n",
    "image = mario\n",
    "\n",
    "backend = Aer.get_backend('statevector_simulator')\n",
    "\n",
    "q = QuantumRegister(n)\n",
    "c = ClassicalRegister(n)"
   ]
  },
  {
   "cell_type": "code",
   "execution_count": 30,
   "metadata": {},
   "outputs": [],
   "source": [
    "frame_num = 100 # run time will be around double this number in seconds\n",
    "        \n",
    "fracs = [ [ 2, 2, 2, 2, 2, 2, ],\n",
    "          [ 4, 4, 4, 4, 4, 4, ],\n",
    "          [ 2, 2, 2, 2, 2, 2, ]]"
   ]
  },
  {
   "cell_type": "code",
   "execution_count": 31,
   "metadata": {
    "scrolled": false
   },
   "outputs": [],
   "source": [
    "state = image2state(image,grid)\n",
    "\n",
    "frames = []\n",
    "for f in range(frame_num):\n",
    "    \n",
    "    circuits = []\n",
    "    for j in range(3):\n",
    "        qc = QuantumCircuit(q)\n",
    "        qc.initialize(state[j],q)\n",
    "        for qubit in range(n):\n",
    "            qc.ry(2*np.pi*fracs[j][qubit]*f/frame_num,q[qubit])\n",
    "        circuits.append( qc )\n",
    "\n",
    "    job = execute(circuits, backend)\n",
    "\n",
    "    counts = []\n",
    "    for j in range(3):\n",
    "        state[j] = job.result().get_statevector(circuits[j])\n",
    "        counts.append( ket2counts(state[j]) )\n",
    "        \n",
    "    frames.append( counts2image(counts,grid) )\n",
    "\n",
    "save_frames( frames, scale=(256,256) )"
   ]
  },
  {
   "cell_type": "code",
   "execution_count": null,
   "metadata": {},
   "outputs": [],
   "source": []
  },
  {
   "cell_type": "code",
   "execution_count": null,
   "metadata": {},
   "outputs": [],
   "source": []
  }
 ],
 "metadata": {
  "kernelspec": {
   "display_name": "Python 3",
   "language": "python",
   "name": "python3"
  },
  "language_info": {
   "codemirror_mode": {
    "name": "ipython",
    "version": 3
   },
   "file_extension": ".py",
   "mimetype": "text/x-python",
   "name": "python",
   "nbconvert_exporter": "python",
   "pygments_lexer": "ipython3",
   "version": "3.7.0"
  }
 },
 "nbformat": 4,
 "nbformat_minor": 2
}
